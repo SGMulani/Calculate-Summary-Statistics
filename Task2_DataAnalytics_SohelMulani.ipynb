{
 "cells": [
  {
   "cell_type": "markdown",
   "id": "2b4b10de",
   "metadata": {},
   "source": [
    "# Task2 : Calculate Summary Statistics"
   ]
  },
  {
   "cell_type": "markdown",
   "id": "90d6e89e",
   "metadata": {},
   "source": [
    "Name: Sohel Gulab Mulani"
   ]
  },
  {
   "cell_type": "code",
   "execution_count": 1,
   "id": "467bb81a",
   "metadata": {},
   "outputs": [
    {
     "name": "stdout",
     "output_type": "stream",
     "text": [
      "Mean: 1100.5\n",
      "Median: 1100.5\n",
      "Mode: 892\n",
      "Standard Deviation: 120.66586095495279\n"
     ]
    },
    {
     "name": "stderr",
     "output_type": "stream",
     "text": [
      "C:\\Users\\sohel\\AppData\\Local\\Temp\\ipykernel_14008\\3499856383.py:18: FutureWarning: Unlike other reduction functions (e.g. `skew`, `kurtosis`), the default behavior of `mode` typically preserves the axis it acts along. In SciPy 1.11.0, this behavior will change: the default value of `keepdims` will become False, the `axis` over which the statistic is taken will be eliminated, and the value None will no longer be accepted. Set `keepdims` to True or False to avoid this warning.\n",
      "  mode = stats.mode(data).mode[0]\n"
     ]
    }
   ],
   "source": [
    "import pandas as pd\n",
    "import numpy as np\n",
    "from scipy import stats\n",
    "\n",
    "# Load your dataset from a CSV file (replace 'your_data.csv' with your file path)\n",
    "df = pd.read_csv('D:\\software\\python\\Datasets\\gender_submission.csv')\n",
    "\n",
    "# Extract the data from the DataFrame\n",
    "data = df['PassengerId'].tolist()  # Replace 'Column_Name' with the actual column name containing your data\n",
    "\n",
    "# Calculate mean (average)\n",
    "mean = np.mean(data)\n",
    "\n",
    "# Calculate median (middle value)\n",
    "median = np.median(data)\n",
    "\n",
    "# Calculate mode (most frequent value)\n",
    "mode = stats.mode(data).mode[0]\n",
    "\n",
    "# Calculate standard deviation\n",
    "std_dev = np.std(data)\n",
    "\n",
    "# Print the summary statistics\n",
    "print(f\"Mean: {mean}\")\n",
    "print(f\"Median: {median}\")\n",
    "print(f\"Mode: {mode}\")\n",
    "print(f\"Standard Deviation: {std_dev}\")\n"
   ]
  }
 ],
 "metadata": {
  "kernelspec": {
   "display_name": "Python 3 (ipykernel)",
   "language": "python",
   "name": "python3"
  },
  "language_info": {
   "codemirror_mode": {
    "name": "ipython",
    "version": 3
   },
   "file_extension": ".py",
   "mimetype": "text/x-python",
   "name": "python",
   "nbconvert_exporter": "python",
   "pygments_lexer": "ipython3",
   "version": "3.10.9"
  }
 },
 "nbformat": 4,
 "nbformat_minor": 5
}
